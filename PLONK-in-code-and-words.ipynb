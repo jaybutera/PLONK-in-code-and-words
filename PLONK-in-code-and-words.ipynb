{
 "cells": [
  {
   "cell_type": "markdown",
   "id": "e5a3b453",
   "metadata": {},
   "source": [
    "# PLONK in Code and Words\n",
    "\n",
    "#### Authored by Jay Butera and Amir Taaki\n",
    "\n",
    "Welcome on your journey to the black magicry of zk-snarks. Plonk, developed by Ariel Gabizon [in this paper](https://github.com/arielgabizon/plonk/blob/master/PLONK.pdf), is essentially the KZG polynomial commitment scheme where the polynomial is an arithmetized program and its inputs.\n",
    "\n",
    "Therefore it is very useful and advisable to review the KZG polynomial commitment scheme first. [Read these notes](https://arnaucube.com/blog/kzg-commitments.html) for a brief overview of the entire protocol. For a more verbose review [read this next](https://dankradfeist.de/ethereum/2020/06/16/kate-polynomial-commitments.html).\n",
    "\n",
    "This document is intended to be a comprehensive in-depth introduction to Plonk. There are links to necessary information to fill gaps in the explanation here. Many times you will need to read sections of the Plonk paper as referenced throughout this document.\n",
    "\n",
    "Very little prior knowledge about snarks is assumed in this guide. If you do have no prior experience however, [From zero to bulletproofs](https://github.com/AdamISZ/from0k2bp/blob/master/from0k2bp.pdf) is a great introduction to basic cryptographic concepts like Pederson commitments (homomorphic encryption), commitments to vectors, and methods for reasoning about zero knowledge. It will be very useful to read the first 3 sections.\n",
    "\n",
    "This guide also makes use of basic abstract algebra concepts like groups and fields, and of the [Sage](https://www.sagemath.org/) python math exension.\n",
    "\n",
    "This is not intended to be a short overview to get a feeling for the technology. If you focus on this document alone and the supplementary resources referenced, with patience and time you can come to understand the entire protocol.\n",
    "\n",
    "You can also ask questions in the [PLONK cafe](https://www.plonk.cafe/)."
   ]
  },
  {
   "cell_type": "markdown",
   "id": "32161bdb",
   "metadata": {},
   "source": [
    "## Initial parameters\n",
    "\n",
    "Remember that an algebraic field contains a multiplicative subgroup.\n",
    "\n",
    "The order of the field, q, is a prime chosen so that the multiplicative group has a subgroup of order $2^{32}$, as well as all smaller powers of two. You will use these subgroups to encode the program in a polynomial later. "
   ]
  },
  {
   "cell_type": "code",
   "execution_count": 1,
   "id": "c7bd05a3",
   "metadata": {},
   "outputs": [],
   "source": [
    "q = 0x40000000000000000000000000000000224698fc0994a8dd8c46eb2100000001\n",
    "K = GF(q)\n",
    "P.<X> = K[]"
   ]
  },
  {
   "cell_type": "code",
   "execution_count": 2,
   "id": "eed1bb55",
   "metadata": {},
   "outputs": [],
   "source": [
    "#p = 0x1a0111ea397fe69a4b1ba7b6434bacd764774b84f38512bf6730d2a0f6b0f6241eabfffeb153ffffb9feffffffffaaab\n",
    "#Kk = GF(p)\n",
    "#ak = Kk(0x00)\n",
    "#bk = Kk(0x04)\n",
    "#E = EllipticCurve(Kk, (ak, bk))\n",
    "\n",
    "# Generators which form the curve pairing\n",
    "g1 = 0x17F1D3A73197D7942695638C4FA9AC0FC3688C4F9774B905A14E3A3F171BAC586C55E83FF97A1AEFFB3AF00ADB22C6BB\n",
    "g2 = 0x08B3F481E3AAA0F1A09E30ED741D8AE4FCF5E095D5D00AF600DB18CB2C04B3EDD03CC744A2888AE40CAA232946C5E7E1\n",
    "\n",
    "#G = E(g1, g2)\n",
    "#E.set_order(0x73EDA753299D7D483339D80809A1D80553BDA402FFFE5BFEFFFFFFFF00000001 * 0x396C8C005555E1568C00AAAB0000AAAB)"
   ]
  },
  {
   "cell_type": "markdown",
   "id": "d1c74916",
   "metadata": {},
   "source": [
    "## Arithmetization\n",
    "\n",
    "Arithmetization is the process of compiling a program as a series of equations."
   ]
  },
  {
   "cell_type": "code",
   "execution_count": 3,
   "id": "b445c501",
   "metadata": {},
   "outputs": [],
   "source": [
    "s = 1\n",
    "x = 2\n",
    "y = 3\n",
    "\n",
    "if s:\n",
    "    x * y\n",
    "else:\n",
    "    x + y"
   ]
  },
  {
   "cell_type": "markdown",
   "id": "96e0815b",
   "metadata": {},
   "source": [
    "This can be expressed mathematically as $sxy + (1-s)(x + y)$. Notice how s, a boolean 0 or 1, will choose either $xy$ or $x + y$ depending on its value.\n",
    "\n",
    "Read the [How PLONK works](https://vitalik.ca/general/2019/09/22/plonk.html) section in Vitalik's blog post for a soft introduction to arithmetization. Section 6 of the Plonk paper also describes the process.\n",
    "\n",
    "Below is a simple \"compiler\" to transform a nested expression of additions and multiplications into the rows for plonk arithmetization. You can try plugging in different expressions."
   ]
  },
  {
   "cell_type": "code",
   "execution_count": 4,
   "id": "297aa36c",
   "metadata": {},
   "outputs": [],
   "source": [
    "# Generates a table from a parsed expr tree\n",
    "def to_table(node):\n",
    "    # Tuples of (a, b, c, q_l, q_r, q_o, q_m, q_c)\n",
    "    table = []\n",
    "\n",
    "    if type(t := node) == tuple:\n",
    "        (op, a, b) = t\n",
    "        # Recurse\n",
    "        if ta := to_table(a):\n",
    "            table += ta\n",
    "        if tb := to_table(b):\n",
    "            table += tb\n",
    "\n",
    "        # Add top level\n",
    "        if op == '+':\n",
    "                a = evaluate(a)\n",
    "                b = evaluate(b)\n",
    "                table.append((a,b,a+b,1,1,-1,0,0))\n",
    "        if op == '*':\n",
    "                a = evaluate(a)\n",
    "                b = evaluate(b)\n",
    "                table.append((a,b,a*b,0,0,-1,1,0))\n",
    "\n",
    "    return table\n",
    "\n",
    "# Execute a program and return its value\n",
    "def evaluate(node):\n",
    "    if type(t := node) == tuple:\n",
    "        (op, a, b) = t\n",
    "        a = evaluate(a)\n",
    "        b = evaluate(b)\n",
    "        if op == '+': return a+b\n",
    "        if op == '*': return a*b\n",
    "    return node\n",
    "\n",
    "# Generate the q and permutation polynomials in the preprocess step\n",
    "def preprocess(table):\n",
    "    a =  [row[0] for row in table]\n",
    "    b =  [row[1] for row in table]\n",
    "    c =  [row[2] for row in table]\n",
    "    ql = [row[3] for row in table]\n",
    "    qr = [row[4] for row in table]\n",
    "    qo = [row[5] for row in table]\n",
    "    qm = [row[6] for row in table]\n",
    "    qc = [row[7] for row in table]\n",
    "    \n",
    "    return (a,b,c,ql,qr,qo,qm,qc)"
   ]
  },
  {
   "cell_type": "code",
   "execution_count": 5,
   "id": "40578fcc",
   "metadata": {},
   "outputs": [
    {
     "data": {
      "text/plain": [
       "([4, 1, 1, 4, 0, 24],\n",
       " [6, 24, -1, 6, 10, 0],\n",
       " [24, 24, 0, 10, 0, 24],\n",
       " [0, 0, 1, 1, 0, 1],\n",
       " [0, 0, 1, 1, 0, 1],\n",
       " [-1, -1, -1, -1, -1, -1],\n",
       " [1, 1, 0, 0, 1, 0],\n",
       " [0, 0, 0, 0, 0, 0])"
      ]
     },
     "execution_count": 5,
     "metadata": {},
     "output_type": "execute_result"
    }
   ],
   "source": [
    "# Hidden values\n",
    "s = 1\n",
    "x = 4\n",
    "y = 6\n",
    "\n",
    "#program = ('+', ('*', 5, 6), 2)\n",
    "program = \\\n",
    "    ('+',\n",
    "      ('*', s ,('*', x, y)),\n",
    "      ('*', ('+', 1, -s), ('+', x, y)))\n",
    "\n",
    "\n",
    "table = to_table(program)\n",
    "(a,b,c,ql,qr,qo,qm,qc) = preprocess(table)\n",
    "(a,b,c,ql,qr,qo,qm,qc)"
   ]
  },
  {
   "cell_type": "markdown",
   "id": "323fbddf",
   "metadata": {},
   "source": [
    "The circuit needs to be exactly a power of two in length. Find the smallest power of two greater than or equal to the length of the circuit and append zero-padding to make the circuit that length.\n",
    "\n",
    "n being a power of 2 has to do with the multiplicative subgroups mentioned earlier. To encode the circuit as a polynomial you will make use of the subgroup of size n. More on this in \"Deriving the Roots of Unity\" below."
   ]
  },
  {
   "cell_type": "code",
   "execution_count": 6,
   "id": "93a26c9b",
   "metadata": {},
   "outputs": [
    {
     "data": {
      "text/plain": [
       "8"
      ]
     },
     "execution_count": 6,
     "metadata": {},
     "output_type": "execute_result"
    }
   ],
   "source": [
    "def find_min_power_of_2(x):\n",
    "    n = 1\n",
    "    while 2^n < x:\n",
    "        n += 1\n",
    "    return 2^n\n",
    "\n",
    "n = find_min_power_of_2(len(a))\n",
    "n"
   ]
  },
  {
   "cell_type": "code",
   "execution_count": 7,
   "id": "efdca698",
   "metadata": {},
   "outputs": [],
   "source": [
    "len_diff = n - len(a)\n",
    "\n",
    "for _ in range(len_diff):\n",
    "    a.append(0)\n",
    "    b.append(0)\n",
    "    c.append(0)\n",
    "    ql.append(0)\n",
    "    qr.append(0)\n",
    "    qm.append(0)\n",
    "    qo.append(0)\n",
    "    qc.append(0)"
   ]
  },
  {
   "cell_type": "markdown",
   "id": "d3a4b05b",
   "metadata": {},
   "source": [
    "## Trusted Setup\n",
    "\n",
    "As described in KZG, Plonk requires a random seed x, which cannot be known by either the verifier or the prover. The method for generating the \"toxic waste\" x is outside the scope of plonk. For discussion purposes consider a trusted third party which generates x, constructs the structured reference string (SRS) from x and then discards x so that no one knows it.\n",
    "\n",
    "The SRS is a list of powers of x multiplied by the two generator points\n",
    "\n",
    "$ x^0g_1, x^1g_1, ..., x^{n+5}g_1 $\n",
    "\n",
    "$ x^0g_2, x^1g_2, ..., x^{n+5}g_2 $"
   ]
  },
  {
   "cell_type": "code",
   "execution_count": 8,
   "id": "c156beeb",
   "metadata": {},
   "outputs": [],
   "source": [
    "x = K.random_element()\n",
    "xs_1 = [x^i*g1 for i in range(n+5)]\n",
    "xs_2 = [x^i*g2 for i in range(n+5)]"
   ]
  },
  {
   "cell_type": "markdown",
   "id": "68724e53",
   "metadata": {},
   "source": [
    "## Deriving The Roots of Unity\n",
    "\n",
    "The field also has a prime order, denoted $GF(q)$, which means the order of the multiplicative group is q-1 [from wikipedia](https://en.wikipedia.org/wiki/Finite_field#Multiplicative_structure).\n",
    "\n",
    "To derive the nth roots of unity where n is $2^{32}$, take the generator of the multiplicative group of $GF(q)$, call it g, and raise g to the power $(q-1)/2^{32}$. Remember q-1 is the order of the group which g generates. So $g^{q-1} = 1$. To see what happens when you divide the order of a subgroup by the order of the group, first we should simplify terms; $m=q-1, k=2^{32}$.\n",
    "\n",
    "Consider the order of the group generated by $|<g^{m/k}>|$\n",
    "\n",
    "When multiplied by k, $g^{m/k^k} = g^m = 1$. Therefore the order of the generated group must be k since the generator applied k times is 1. This is how we derive the generator for the $2^{32}$ roots of unity, called $\\omega$. Raise the generator g to the order $g^{m/k}$.\n",
    "\n",
    "You will see asserts sprinkled throughout the code in this document. These are not necessary for the proof construction but should help you as the reader to understand properties of the constructions."
   ]
  },
  {
   "cell_type": "code",
   "execution_count": 9,
   "id": "c71898c9",
   "metadata": {},
   "outputs": [
    {
     "name": "stdout",
     "output_type": "stream",
     "text": [
      "26389178552394651245246837090492411671330744266237564696174733440959711379620\n"
     ]
    }
   ],
   "source": [
    "# Get the generator for the nth roots of unity\n",
    "def omega(n):\n",
    "    g = K.multiplicative_generator()\n",
    "    t = (q-1)/n\n",
    "    return g^t\n",
    "\n",
    "omega = omega(n)\n",
    "print(omega)\n",
    "\n",
    "assert omega^n == 1\n",
    "for i in range(1,n):\n",
    "    assert omega^i != 1"
   ]
  },
  {
   "cell_type": "markdown",
   "id": "ce1469f5",
   "metadata": {},
   "source": [
    "## Indexing Polynomials\n",
    "\n",
    "In a computer we index into arrays with an offset i. In math, polynomials are used like arrays. To use a polynomial like an array, you could encode the polynomial p, so that $p(i) = v[i]$.\n",
    "\n",
    "PLONK uses a polynomial called $L_i(x)$ which is defined so that $L_i(w^i) = 1$, and 0 for all other roots of unity. See the definition of L at the beginning of section 5 in the PLONK paper."
   ]
  },
  {
   "cell_type": "markdown",
   "id": "64425e34",
   "metadata": {},
   "source": [
    "## Encoding lists as Polynomials\n",
    "\n",
    "Polynomials are the mathematical version of a list. In Plonk, values of the list are indexed at powers of $\\omega$.\n",
    "\n",
    "The whole point of a snark is to utilize the [Schwartz-Zippel](https://en.wikipedia.org/wiki/Schwartz%E2%80%93Zippel_lemma) property of polynomials to make very convincing arguments about a large range of values without actually inspecting them all. At the end there will be a single polynomial which aggregates all the smaller polynomials of important information for the proof.\n",
    "\n",
    "Now you start encoding polynomials of the circuit. Polynomial interpolation is used for this."
   ]
  },
  {
   "cell_type": "code",
   "execution_count": 10,
   "id": "95769bb5",
   "metadata": {},
   "outputs": [],
   "source": [
    "Ql_X = P.lagrange_polynomial((omega^i, ql_i) for i, ql_i in enumerate(ql))\n",
    "Qr_X = P.lagrange_polynomial((omega^i, qr_i) for i, qr_i in enumerate(qr))\n",
    "Qo_X = P.lagrange_polynomial((omega^i, qo_i) for i, qo_i in enumerate(qo))\n",
    "Qm_X = P.lagrange_polynomial((omega^i, qm_i) for i, qm_i in enumerate(qm))\n",
    "Qc_X = P.lagrange_polynomial((omega^i, qc_i) for i, qc_i in enumerate(qc))"
   ]
  },
  {
   "cell_type": "markdown",
   "id": "10484728",
   "metadata": {},
   "source": [
    "## Copy Constraints\n",
    "\n",
    "The above polynomial encoding of the circuit expresses a constraint on each line, but doesn't connect the variables which are the same between lines.\n",
    "\n",
    "To understand how copy constraints bridge this gap, start by reading the \"Copy Constraints\" section on [Vitalik's Plonk article](https://vitalik.ca/general/2019/09/22/plonk.html). \n",
    "\n",
    "Once you understand how the accumulator pairs enforce the constraint, read up to the \"Argument Specification\" section of the article on [Halo permutations](https://zcash.github.io/halo2/design/proving-system/permutation.html) to get a better idea of how to encode the polynomial. The last sections are specific to Halo, not Plonk.\n",
    "\n",
    "Read section 5 of the Plonk paper, which will reinforce your understanding and familiarize you with the notation used for Plonk. More information about $\\sigma^*$ in section 8.1 of the paper."
   ]
  },
  {
   "cell_type": "markdown",
   "id": "c4222097",
   "metadata": {},
   "source": [
    "### The Permutation Algorithm\n",
    "\n",
    "The permutation construction algorithm is simple. Concatenate the witness arrays $w = a+b+c$, and iterate over $w$, for each element searching the following elements for the first matching value, and swap the indexes if found."
   ]
  },
  {
   "cell_type": "code",
   "execution_count": 11,
   "id": "f599a16f",
   "metadata": {},
   "outputs": [
    {
     "name": "stdout",
     "output_type": "stream",
     "text": [
      "[3, 2, 1, 0, 6, 9, 7, 13, 11, 16, 10, 8, 19, 14, 15, 18, 17, 21, 20, 12, 22, 5, 23, 4]\n"
     ]
    }
   ],
   "source": [
    "witness = a + b + c\n",
    "\n",
    "perm = [i for i,_ in enumerate(witness)]\n",
    "for i in range(len(witness)):\n",
    "    for j in range(i+1, len(witness)):\n",
    "        if witness[j] == witness[i]:\n",
    "            #print('found match', witness[j], \"at\", j, \"and\", i)\n",
    "            \n",
    "            # Swap\n",
    "            tmp = perm[i]\n",
    "            perm[i] = perm[j]\n",
    "            perm[j] = tmp\n",
    "            break\n",
    "\n",
    "print(perm)"
   ]
  },
  {
   "cell_type": "markdown",
   "id": "d380afdd",
   "metadata": {},
   "source": [
    "### Construct the $\\sigma^*$ Permutation\n",
    "\n",
    "The $\\sigma^*$ is a permutation over the three witness polynomials a,b,c. Read section 8.1 to understand it's construction. It uses the roots of unity to index the permutation of size $3n$. Because there are only n roots of unity, and $\\omega^i = \\omega^{n+i}$, there needs to be a way to distinguish these elements.\n",
    "\n",
    "Plonk uses [quadratic non-residues](https://en.wikipedia.org/wiki/Quadratic_residue) which form different cosets of $H$, the roots of unity, to do this. A quadratic residue mod q is a number a which can be expressed as a quadratic of another number in the group $a = b^2$. \n",
    "\n",
    "We find two quadratic non-residues, $k_1, k_2$, using an extension of the [Legendre symbol](https://en.wikipedia.org/wiki/Legendre_symbol). We must then make sure they don't form the same coset, $k_1H = k_2H$. We can do this by simply checking one element from each, since none should overlap.\n",
    "\n",
    "Finally, encode $\\sigma^*$ in three polynomials indexed by the nth roots of unity."
   ]
  },
  {
   "cell_type": "code",
   "execution_count": 12,
   "id": "34f9fd5c",
   "metadata": {},
   "outputs": [],
   "source": [
    "def rand_nonquadratic_residue():\n",
    "    k = K.random_element()\n",
    "    while kronecker(k, q) != -1:\n",
    "        k = K.random_element()\n",
    "        \n",
    "    return k\n",
    "\n",
    "k1 = rand_nonquadratic_residue()\n",
    "k2 = rand_nonquadratic_residue()\n",
    "\n",
    "#k1 = 3743749184259895985410397423611337181690386628492621551196449208577957147100\n",
    "#k2 = 19930379861637324095376072787537755553917267237357339837232655761235933545310\n",
    "\n",
    "assert k1 != k2\n",
    "assert k1*omega != k2*omega"
   ]
  },
  {
   "cell_type": "code",
   "execution_count": 13,
   "id": "57b919ab",
   "metadata": {},
   "outputs": [],
   "source": [
    "indices = ([omega^i for i in range(n)]\n",
    "            + [k1 * omega^i for i in range(n)]\n",
    "            + [k2 * omega^i for i in range(n)])\n",
    "\n",
    "sigma_star = [indices[perm[i]] for i in range(3*n)]\n",
    "\n",
    "\n",
    "# sigmastar permutation as three polynomials\n",
    "sig1_X = P.lagrange_polynomial((omega^i, sigma_star[i]) for i in range(n))\n",
    "sig2_X = P.lagrange_polynomial((omega^i, sigma_star[n+i]) for i in range(n))\n",
    "sig3_X = P.lagrange_polynomial((omega^i, sigma_star[2*n+i]) for i in range(n))"
   ]
  },
  {
   "cell_type": "markdown",
   "id": "f4bb7eff",
   "metadata": {},
   "source": [
    "Now with everything in the setup phase done, you can commit to the witness polynomials a,b,c. This is round 1 in plonk."
   ]
  },
  {
   "cell_type": "code",
   "execution_count": 14,
   "id": "1a31a259",
   "metadata": {},
   "outputs": [],
   "source": [
    "# Prover generates 6 random scalars in GF(q)\n",
    "[b1,b2,b3,b4,b5,b6,b7,b8,b9] = [1 for _ in range(9)]#[K.random_element() for _ in range(9)]"
   ]
  },
  {
   "cell_type": "markdown",
   "id": "aeafb47a",
   "metadata": {},
   "source": [
    "## Vanishing Polynomial\n",
    "\n",
    "$Z_H$ is a polynomial which evaluates to 0 at the roots of unity H. Values at other points are non-zero. A straightforward construction of $Z_H$ is all the factors at the roots: $Z_H(X) = (X-\\omega^0)(X-\\omega^1)\\cdots(X-\\omega^n)$.\n",
    "\n",
    "But the same polynomial can be expressed as $Z_H(X) = X^n-1$ since it is a theorem that $X^n = 1$ for all elements $X$ in a group of order n, where in this case n is the order of the subgroup nth roots of unity."
   ]
  },
  {
   "cell_type": "code",
   "execution_count": 15,
   "id": "402d4d23",
   "metadata": {},
   "outputs": [],
   "source": [
    "Z_H = X^n - 1\n",
    "\n",
    "for i in range(n):\n",
    "    assert Z_H(omega^i) == 0"
   ]
  },
  {
   "cell_type": "markdown",
   "id": "d43ae5cd",
   "metadata": {},
   "source": [
    "## Round 1\n",
    "\n",
    "Construct the witness polynomials and commit to them at the point of the trusted setup parameter."
   ]
  },
  {
   "cell_type": "code",
   "execution_count": 16,
   "id": "372a5abd",
   "metadata": {
    "scrolled": true
   },
   "outputs": [],
   "source": [
    "a_X = (b1*X+b2)*Z_H + P.lagrange_polynomial((omega^i, a[i]) for i in range(n))\n",
    "b_X = (b3*X+b4)*Z_H + P.lagrange_polynomial((omega^i, b[i]) for i in range(n))\n",
    "c_X = (b5*X+b6)*Z_H + P.lagrange_polynomial((omega^i, c[i]) for i in range(n))\n",
    "\n",
    "for i in range(n):\n",
    "    assert a[i] == a_X(omega^i)"
   ]
  },
  {
   "cell_type": "markdown",
   "id": "6d2bf522",
   "metadata": {},
   "source": [
    "You can see the polynomial looks random due to Z_H and the blinding factors. The witness values are embedded into the randomness."
   ]
  },
  {
   "cell_type": "code",
   "execution_count": 17,
   "id": "5a9896e2",
   "metadata": {},
   "outputs": [
    {
     "data": {
      "text/plain": [
       "[<matplotlib.lines.Line2D object at 0x7f9d4c731d90>]"
      ]
     },
     "execution_count": 17,
     "metadata": {},
     "output_type": "execute_result"
    },
    {
     "data": {
      "image/png": "[encoded data removed]",
      "text/plain": [
       "<Figure size 432x288 with 1 Axes>"
      ]
     },
     "metadata": {
      "needs_background": "light"
     },
     "output_type": "display_data"
    }
   ],
   "source": [
    "import matplotlib as mpl\n",
    "import matplotlib.pyplot as plt\n",
    "\n",
    "fig, ax = plt.subplots()\n",
    "ax.plot([i for i in range(100)], [a_X(i) for i in range(100)])"
   ]
  },
  {
   "cell_type": "markdown",
   "id": "e548a4b4",
   "metadata": {},
   "source": [
    "Commit to the witness polynomials a,b,c as in the KZG commitment scheme. Notice from the scheme that $C = [p(x)]_1 = \\sum_{i=0}^{deg(p(x))} [\\tau^i] \\cdot p_i$."
   ]
  },
  {
   "cell_type": "code",
   "execution_count": 35,
   "id": "8d62a5e3",
   "metadata": {},
   "outputs": [
    {
     "data": {
      "text/plain": [
       "(21195042919395041520554801212504920238785026299677899070131909532180832513618,\n",
       " 21879264387841397675097223167214848705139948157417251091382754305222066796923,\n",
       " 25643018008935449037616189235737095762142479713558170312971663529180600288136)"
      ]
     },
     "execution_count": 35,
     "metadata": {},
     "output_type": "execute_result"
    }
   ],
   "source": [
    "# Remove initial zeros which sage adds in a polynomial coefficient list\n",
    "'''\n",
    "def unpadded(l):\n",
    "    while l[0] == 0:\n",
    "        l.remove(0)\n",
    "    return l\n",
    "'''\n",
    "\n",
    "# Commit to a polynomial at the trusted setup value x, using generator g1\n",
    "def commit_1(poly):\n",
    "    Cp_1 = 0\n",
    "    for i, p_i in enumerate(poly.list()):\n",
    "        Cp_1 += p_i * xs_1[i]\n",
    "    return Cp_1\n",
    "\n",
    "Ca_1 = commit_1(a_X)\n",
    "Cb_1 = commit_1(b_X)\n",
    "Cc_1 = commit_1(c_X)\n",
    "    \n",
    "(Ca_1, Cb_1, Cc_1)"
   ]
  },
  {
   "cell_type": "markdown",
   "id": "bd9455e9",
   "metadata": {},
   "source": [
    "## Round 2\n",
    "\n",
    "Compute Fiat-Shamir challenges $\\beta, \\gamma$. These would be randomly chosen values provided by the verifier in an interactive protocol, but the Fiat-Shamir heuristic ensures the prover can't choose favorable values which would help them falsify the proof.\n",
    "\n",
    "Remember that commitments in the transcript (Ca_1, ...) are points in the group. When converting to strings they may be different lengths. Cryptographers like to be sure there is no room for ambiguity, so it is common practice to insert a delimiter, |, between points. This distinguishes concatenating numbers like 123, 456 from numbers 12, 3456."
   ]
  },
  {
   "cell_type": "code",
   "execution_count": 19,
   "id": "6cfd43bc",
   "metadata": {},
   "outputs": [],
   "source": [
    "transcript = [str(Ca_1), str(Cb_1), str(Cc_1)]\n",
    "beta = hash('|'.join(transcript) + '0')\n",
    "gamma = hash('|'.join(transcript) + '1')\n",
    "\n",
    "beta = 13221126506858500342419753147213623108357776356575276450266108156614729463975\n",
    "gamma = 21010720231774318035415855699715358516647461224162570325176355814698576594896"
   ]
  },
  {
   "cell_type": "markdown",
   "id": "fb35614e",
   "metadata": {},
   "source": [
    "Go back to [Vitalik's article](https://vitalik.ca/general/2019/09/22/plonk.html) and read the section on copy constraints. He explains how the \"accumulator\" is used to aggregate values of a polynomial, and how you can be sure that two accumulated sums with different X values are the same if the Y values match up to the permutation of X.\n",
    "\n",
    "Read section 5, \"Polynomial protocols for identifying permutations\", to complete the connection to how they are used in Plonk."
   ]
  },
  {
   "cell_type": "code",
   "execution_count": 20,
   "id": "3754d1dd",
   "metadata": {},
   "outputs": [
    {
     "data": {
      "text/plain": [
       "[(1, 1),\n",
       " (26389178552394651245246837090492411671330744266237564696174733440959711379620,\n",
       "  20543015394467538625576195086386901834977836897428997947665064469809389700872),\n",
       " (24682508875525884897641270952488416149830453149035712389703207095981135804695,\n",
       "  8879907200039609801921570109736307375871783182857493557815176428252650197287),\n",
       " (4855188899445002300170730717563617051094175372704778513906105166874447905568,\n",
       "  19920378110740247537525447736648654676038359511682832954947139220104543002223),\n",
       " (28948022309329048855892746252171976963363056481941647379679742748393362948096,\n",
       "  15506378787423493375346494831772783612358907037417197382968668559543297095103),\n",
       " (2558843756934397610645909161679565292032312215704082683505009307433651568477,\n",
       "  2217374552352269759590410770092470831092570465515451149230845918429643914370),\n",
       " (4265513433803163958251475299683560813532603332905934989976535652412227143402,\n",
       "  7196449923070103033913205073277330656065769001570198713905771462834851146683),\n",
       " (24092833409884046555722015534608359912268881109236868865773637581518915042529,\n",
       "  12422260299377427918069256710140507216886077166695998685463166415991656986234)]"
      ]
     },
     "execution_count": 20,
     "metadata": {},
     "output_type": "execute_result"
    }
   ],
   "source": [
    "accumulator_points = [(1, 1)]\n",
    "\n",
    "for i in range(n - 1):\n",
    "    x = omega^(i + 1)\n",
    "    y = 1\n",
    "    for j in range(i + 1):\n",
    "        y *= witness[j] + beta * omega^j + gamma\n",
    "        y *= witness[n + j] + beta * k1 * omega^j + gamma\n",
    "        y *= witness[2 * n + j] + beta * k2 * omega^j + gamma\n",
    "        y /= witness[j] + sigma_star[j] * beta + gamma\n",
    "        y /= witness[n + j] + sigma_star[n + j] * beta + gamma\n",
    "        y /= witness[2 * n + j] + sigma_star[2 * n + j] * beta + gamma\n",
    "    accumulator_points.append((x, y))\n",
    "    \n",
    "accumulator_points"
   ]
  },
  {
   "cell_type": "markdown",
   "id": "9b94520f",
   "metadata": {},
   "source": [
    "As an interesting aside, although the accumulator is encoding all the values before it and the next, both the x and y values (roots of unity and accumulator points) are not just progressively bigger and bigger.\n",
    "\n",
    "In fact the accumulator reaches a value greater than $q$, the order of the group, quickly. But because this is a group, subtracting a value will still return the previous iteration."
   ]
  },
  {
   "cell_type": "markdown",
   "id": "8e13b088",
   "metadata": {},
   "source": [
    "Finally commit to $Z$, the encoded accumulator, aka permutation polynomial."
   ]
  },
  {
   "cell_type": "code",
   "execution_count": 21,
   "id": "ac21ef2a",
   "metadata": {},
   "outputs": [],
   "source": [
    "# Blinding factor + 1 at omega + accumulator points at each index of witness values\n",
    "z_X = (b7*X^2+b8*X+b9) * Z_H \\\n",
    "    + P.lagrange_polynomial(accumulator_points)\n",
    "\n",
    "assert z_X(1) == 1"
   ]
  },
  {
   "cell_type": "code",
   "execution_count": 22,
   "id": "d075d834",
   "metadata": {},
   "outputs": [
    {
     "data": {
      "text/plain": [
       "12434460167838954159624346180705212326874188265009397806089842418822842817504"
      ]
     },
     "execution_count": 22,
     "metadata": {},
     "output_type": "execute_result"
    }
   ],
   "source": [
    "Cz_1 = commit_1(z_X)\n",
    "Cz_1"
   ]
  },
  {
   "cell_type": "markdown",
   "id": "3cb1f26f",
   "metadata": {},
   "source": [
    "## Round 3\n",
    "\n",
    "In round 3 the entire circuit - each row, the copy constraints, and the base case $\\omega = 1$ are encoded in a single polynomial which is then split into three polynomials of degree < n, and each are commited to."
   ]
  },
  {
   "cell_type": "code",
   "execution_count": 23,
   "id": "60f3034f",
   "metadata": {},
   "outputs": [
    {
     "data": {
      "text/plain": [
       "2437447427209435554"
      ]
     },
     "execution_count": 23,
     "metadata": {},
     "output_type": "execute_result"
    }
   ],
   "source": [
    "# Compute the new challenge\n",
    "alpha = hash(str(Cz_1))\n",
    "alpha"
   ]
  },
  {
   "cell_type": "code",
   "execution_count": 24,
   "id": "83f184fd",
   "metadata": {},
   "outputs": [],
   "source": [
    "circuit_X = (a_X*b_X*Qm_X + a_X*Ql_X + b_X*Qr_X + c_X*Qo_X + Qc_X)\n",
    "\n",
    "zf_X = ((a_X + beta*X + gamma)\n",
    "        * (b_X + beta*k1*X + gamma)\n",
    "        * (c_X + beta*k2*X + gamma)\n",
    "        * z_X)\n",
    "\n",
    "gz_X = ((a_X + beta * sig1_X + gamma)\n",
    "        * (b_X + beta * sig2_X + gamma)\n",
    "        * (c_X + beta * sig3_X + gamma)\n",
    "        * z_X(X * omega))\n",
    "\n",
    "l1_X = P.lagrange_polynomial([(1, z_X(1)-1)] + [(omega^i, 0) for i in range(1,n)])\n",
    "\n",
    "for i in range(n):\n",
    "    assert zf_X(omega^i) == gz_X(omega^i)"
   ]
  },
  {
   "cell_type": "markdown",
   "id": "84b14cba",
   "metadata": {},
   "source": [
    "Notice zf_X - gz_X is the check b of step 5 in the permutation protocol in section 5; \n",
    "\n",
    "$Z(a)f(a) = g(a)Z(a \\cdot g)$\n",
    "\n",
    "L1z is check a;\n",
    "\n",
    "$L_1(a)(Z(a) - 1) = 0$\n",
    "\n",
    "In the following polynomial t, all three constraint checks are combined. Dividing by 0 at the roots of unity (Z_H) ensures that the constraints are also 0 or else the function is undefined."
   ]
  },
  {
   "cell_type": "code",
   "execution_count": 25,
   "id": "9c07e92e",
   "metadata": {},
   "outputs": [
    {
     "data": {
      "text/plain": [
       "27112917161463273578172170506036799771449424879585859822484144488627959941960*X^29 + 14717910879807124457683241763262247544859915350741910358842628710330621788677*X^28 + 787946256658544353100999925225585477823442602339044158266343781306505059275*X^27 + 24301808986619980925861046222835411275252020611997250069379796752447385314283*X^26 + 25402340306991744556474406296152952518478635658571008533209776766168092380932*X^25 + 20091507465728143675951990337247506416448218234501539696234789677709256396033*X^24 + 18085867687526526638259053517220916511575688796871774657997971696805616880153*X^23 + 18809352677897747560996177202636434481969097954832123566789292914175411027827*X^22 + 11731317026039578143221150586320766493583182578140092827590363325978969299783*X^21 + 25137885427326600336922842795370924241336537550675407560474102078660437216481*X^20 + 1200744605905360019796700146373408832442925146436223806453287375314811333241*X^19 + 15641361424956838115984983830785428224244879850853977701819596292776885282745*X^18 + 24246925504445611361930255045852201293862129192348858590086058613033879291666*X^17 + 6793042711247273080685261742432478900242397201666486631506001425084535021181*X^16 + 10746381112230541565325633983332646067792051237899551082069658675487048078101*X^15 + 28454625009558488025968764583546959025375969288872206615258043212248488384832*X^14 + 24972006628156241388855528156994560842267389633710786177005629400271813826467*X^13 + 13979533337149199771572805885397927953257147071145762348065968426774314370343*X^12 + 26790784530464814452396454060125942215228300191522148591465436398911384975830*X^11 + 7186445709401957013302748876160401169778466472963085848908032236718054978403*X^10 + 14733220800313106877824727949152533801390964134838747285851678640637720863709*X^9 + 11890103302909487821456920542161400478360425061895041886211393915720415909370*X^8 + 21943501340941749454748018679132842098045273031687071470756925737325803317798*X^7 + 16954643768439640453201835152040166806511764104644108845262702386607268859218*X^6 + 13084964267592038080740530172065185084223504298324670717984841378306522763190*X^5 + 18598969862360125115508742789795326133945239530835605707691786798197202082578*X^4 + 21132103361944402461999281561021174027470283555632453303195637882986080403399*X^3 + 12223890186307904060643653223914093451187497299928595278232270466254909344969*X^2 + 21446824823238506469063567357992898376255758869905972562956490910053972957599*X + 15373756787106212844495753741354051542950523823671195903567628640102947994670"
      ]
     },
     "execution_count": 25,
     "metadata": {},
     "output_type": "execute_result"
    }
   ],
   "source": [
    "t_X, rem_X = (circuit_X + (zf_X - gz_X) * alpha + l1_X * alpha^2).quo_rem(Z_H)\n",
    "\n",
    "assert rem_X == 0\n",
    "t_X"
   ]
  },
  {
   "cell_type": "markdown",
   "id": "5462c212",
   "metadata": {},
   "source": [
    "Before commiting to t, notice that t has a much larger degree than n (the length of polynomials a,b,c). This is because many polynomials were multiplied together to get t (like $a \\cdot b \\cdot q_m$).\n",
    "\n",
    "Remember in the the trusted setup, n+5 different exponentiations of the toxic waste value x are produced. Those values are used to commit to polynomials. Which means a commited polynomial can't be greater than degree n+5.\n",
    "\n",
    "To fix t, split it into 3 sub-polynomials and commit to each."
   ]
  },
  {
   "cell_type": "code",
   "execution_count": 26,
   "id": "933cdc3b",
   "metadata": {},
   "outputs": [
    {
     "name": "stdout",
     "output_type": "stream",
     "text": [
      "13\n",
      "13\n",
      "4\n"
     ]
    }
   ],
   "source": [
    "coefs = t_X.list()\n",
    "t_lo_X  = sum([coefs[i] * X^i for i in range(n+5)])\n",
    "t_mid_X = sum([coefs[i+(n+5)] * X^i for i in range(n+5)])\n",
    "t_hi_X  = sum([coefs[i+(2*n+10)] * X^i for i in range(len(coefs) - (2*n+10))])\n",
    "\n",
    "print(len(t_lo_X.list()))\n",
    "print(len(t_mid_X.list()))\n",
    "print(len(t_hi_X.list()))"
   ]
  },
  {
   "cell_type": "code",
   "execution_count": 27,
   "id": "4cd78c12",
   "metadata": {},
   "outputs": [],
   "source": [
    "Ct_lo_1  = commit_1(t_lo_X)\n",
    "Ct_mid_1 = commit_1(t_mid_X)\n",
    "Ct_hi_1  = commit_1(t_hi_X)"
   ]
  },
  {
   "cell_type": "markdown",
   "id": "13690623",
   "metadata": {},
   "source": [
    "## Round 4\n",
    "\n",
    "In round 3 the final circuit constraint polynomial was constructed. All information about the faithful execution of the circuit is encoded in polynomial $t$.\n",
    "\n",
    "In round 4 you will create an evaluation challenge $\\zeta=H(transcript)$, and use it to evaluate polynomials $a,b,c,s_{\\sigma1},s_{\\sigma2},s_{\\sigma3}$ at $\\zeta$. Also evaluate polynomial $z=z(\\zeta \\omega)$.\n",
    "\n",
    "$\\zeta$ is the random point at which you are evaluating the polynomials to prove you have knowledge of them. This is critical to the intuitional understanding of the snark. The input to the polynomial, z, is not the hidden inputs to the circuit. It is a random value \"chosen\" by the verifier, for which the prover must evaluate the polynomial at that point, and the verifier can see that the evaluation, y, is indeed equal to p(z). See the [Schwartz-Zippel Lemma](https://en.wikipedia.org/wiki/Schwartz%E2%80%93Zippel_lemma) to understand why evaluating a polynomial at an arbitrary point can be a convincing argument of total knowledge of that (commited to) polynomial.\n",
    "\n",
    "In the KZG commitment scheme, you are proving $p(z) = y$. In Plonk, z here is the random point $\\zeta$. But of course what you really want to prove is that the circuit evaluated on secret inputs a,b produce hidden outputs c. Therefore the KZG polynomial p that you are proving an evaluation on in Plonk encodes not just the circuit but also the input and output relations themselves. The KZG evaluation proof $p(\\zeta) = y$ is instead using the Schwartz-Zippel lemma to say \"all these polynomials actually exists and the prover has knowledge of them\". And the polynomials encode all the inputs, outputs, and execution of the circuit."
   ]
  },
  {
   "cell_type": "code",
   "execution_count": 28,
   "id": "65de0265",
   "metadata": {},
   "outputs": [],
   "source": [
    "zeta = hash('|'.join([str(Ct_lo_1), str(Ct_mid_1), str(Ct_hi_1)]))"
   ]
  },
  {
   "cell_type": "code",
   "execution_count": 29,
   "id": "33f56228",
   "metadata": {},
   "outputs": [],
   "source": [
    "ea = a_X(zeta)\n",
    "eb = b_X(zeta)\n",
    "ec = c_X(zeta)\n",
    "ezw = z_X(zeta * omega)\n",
    "esig1 = sig1_X(zeta)\n",
    "esig2 = sig2_X(zeta)"
   ]
  },
  {
   "cell_type": "markdown",
   "id": "36ddd787",
   "metadata": {},
   "source": [
    "## Round 5"
   ]
  },
  {
   "cell_type": "markdown",
   "id": "92e9acc8",
   "metadata": {},
   "source": [
    "Now to finish the proof of knowledge started in round 4, you construct a polynomial, r, which serves as the numerator $p(x) - y$ in the proof polynomial $q(x)$ from KZG. Polynomial r is not actually sent to the verifier. The verifier reconstructs it from the evaluations at $\\delta$ and commitments.\n",
    "\n",
    "Read the \"reducing the number of field elements\" paragraph in section 4.2 of the plonk paper. It explains a way to reduce the number of field elements required to communicate in a polynomial multiplication proof.\n",
    "\n",
    "This technique is used on every term of polynomial r. Notice there is only one polynomial \"open\" to X in every term of r. The others are evaluated at $\\delta$."
   ]
  },
  {
   "cell_type": "code",
   "execution_count": 30,
   "id": "ba298a52",
   "metadata": {},
   "outputs": [],
   "source": [
    "v = hash('|'.join([str(ea), str(eb), str(ec), str(ezw), str(esig1), str(esig2)]))"
   ]
  },
  {
   "cell_type": "code",
   "execution_count": 31,
   "id": "765b19ec",
   "metadata": {},
   "outputs": [],
   "source": [
    "r_X = ((ea*eb*Qm_X + ea*Ql_X + eb*Qr_X + ec*Qo_X + Qc_X)\n",
    "       + (alpha * ((ea + beta*zeta + gamma)\n",
    "                * (eb + beta*k1*zeta + gamma)\n",
    "                * (ec + beta*k2*zeta + gamma) * z_X\n",
    "       - (ea + beta*esig1 + gamma)\n",
    "          * (eb + beta*esig2 + gamma)\n",
    "          * (ec + beta*sig3_X + gamma) * ezw))\n",
    "       + alpha^2 * l1_X(zeta)\n",
    "       - Z_H(zeta) * (t_lo_X + zeta^(n+5) * t_mid_X + zeta^(2*n+10) * t_hi_X))\n",
    "\n",
    "assert r_X(zeta) == 0"
   ]
  },
  {
   "cell_type": "code",
   "execution_count": 32,
   "id": "f4afd865",
   "metadata": {},
   "outputs": [
    {
     "data": {
      "text/plain": [
       "23445379263584937698600239711170545210013107116918709049004589597053346635705"
      ]
     },
     "execution_count": 32,
     "metadata": {},
     "output_type": "execute_result"
    }
   ],
   "source": [
    "Wz_X, rem = (r_X\n",
    "        + v*(a_X - ea)\n",
    "        + v^2*(b_X - eb)\n",
    "        + v^3*(c_X - ec)\n",
    "        + v^4*(sig1_X - esig1)\n",
    "        + v^5*(sig2_X - esig2)).quo_rem(X - zeta)\n",
    "\n",
    "assert rem == 0\n",
    "\n",
    "Wzw_X, rem = (z_X - ezw).quo_rem(X - zeta * omega)\n",
    "\n",
    "assert rem == 0\n",
    "\n",
    "Wz_X(zeta)\n",
    "Wzw_X(zeta * omega)"
   ]
  },
  {
   "cell_type": "code",
   "execution_count": 33,
   "id": "bafd83a9",
   "metadata": {},
   "outputs": [],
   "source": [
    "C_wz_1 = commit_1(Wz_X)\n",
    "C_wzw_1 = commit_1(Wzw_X)"
   ]
  },
  {
   "cell_type": "markdown",
   "id": "fc5d1d0a",
   "metadata": {},
   "source": [
    "# End of Proof\n",
    "\n",
    "Now for how to validate the proof"
   ]
  },
  {
   "cell_type": "markdown",
   "id": "7ed339b4",
   "metadata": {},
   "source": [
    "0. Compute some commitments necessary in the reconstruction"
   ]
  },
  {
   "cell_type": "code",
   "execution_count": 36,
   "id": "6470abed",
   "metadata": {},
   "outputs": [],
   "source": [
    "Cqm_1 = commit_1(Qm_X)\n",
    "Cql_1 = commit_1(Ql_X)\n",
    "Cqr_1 = commit_1(Qr_X)\n",
    "Cqo_1 = commit_1(Qo_X)\n",
    "Cqc_1 = commit_1(Qc_X)\n",
    "Csig_1 = commit_1(sig1_X)\n",
    "Csig_2 = commit_1(sig2_X)\n",
    "Csig_3 = commit_1(sig3_X)"
   ]
  },
  {
   "cell_type": "markdown",
   "id": "8256fb7b",
   "metadata": {},
   "source": [
    "1. Check that all the commitments are points in the group. Since it is a property of groups that all elements raised to the order of the group is one, the check is simply that."
   ]
  },
  {
   "cell_type": "code",
   "execution_count": 37,
   "id": "999e45ea",
   "metadata": {},
   "outputs": [],
   "source": [
    "s = q-1\n",
    "assert Ca_1^s == 1\n",
    "assert Cb_1^s == 1\n",
    "assert Cc_1^s == 1\n",
    "assert Cz_1^s == 1\n",
    "assert Ct_lo_1^s == 1\n",
    "assert Ct_mid_1^s == 1\n",
    "assert Ct_hi_1^s == 1\n",
    "assert C_wz_1^s == 1\n",
    "assert C_wzw_1^s == 1"
   ]
  },
  {
   "cell_type": "markdown",
   "id": "9a2ce306",
   "metadata": {},
   "source": [
    "2. Check the evaluation points are in the field $GF(p)$."
   ]
  },
  {
   "cell_type": "code",
   "execution_count": 38,
   "id": "6a3ac356",
   "metadata": {},
   "outputs": [],
   "source": [
    "#TODO"
   ]
  },
  {
   "cell_type": "markdown",
   "id": "ac88535b",
   "metadata": {},
   "source": [
    "3. Check public inputs are in the field, but this guide left out public inputs for brevity."
   ]
  },
  {
   "cell_type": "markdown",
   "id": "b9c262e0",
   "metadata": {},
   "source": [
    "4. Compute the challenges in the same way as the prover"
   ]
  },
  {
   "cell_type": "code",
   "execution_count": 39,
   "id": "f0da4d00",
   "metadata": {},
   "outputs": [],
   "source": [
    "alpha = hash(str(Cz_1))\n",
    "transcript = [str(Ca_1), str(Cb_1), str(Cc_1)]\n",
    "beta = hash('|'.join(transcript) + '0')\n",
    "gamma = hash('|'.join(transcript) + '1')\n",
    "zeta = hash('|'.join([str(Ct_lo_1), str(Ct_mid_1), str(Ct_hi_1)]))\n",
    "v = hash('|'.join([str(ea), str(eb), str(ec), str(ezw), str(esig1), str(esig2)]))\n",
    "u = hash('|'.join([str(C_wz_1), str(C_wzw_1)]))"
   ]
  },
  {
   "cell_type": "markdown",
   "id": "b83b6bbb",
   "metadata": {},
   "source": [
    "5. Evaluate the zero and first lagrange basis polynomials at zeta. While you can compute el1z by computing the lagrange basis polynomial and then evaluating it at zeta, the paper uses a math trick."
   ]
  },
  {
   "cell_type": "code",
   "execution_count": 40,
   "id": "6b149727",
   "metadata": {},
   "outputs": [],
   "source": [
    "ezz = zeta^n - 1\n",
    "el1z = (omega * (zeta^n - 1)) / (n * (zeta - omega))"
   ]
  },
  {
   "cell_type": "markdown",
   "id": "ee2b8c80",
   "metadata": {},
   "source": [
    "6. "
   ]
  },
  {
   "cell_type": "code",
   "execution_count": 41,
   "id": "9aa70216",
   "metadata": {},
   "outputs": [],
   "source": [
    "r0 = el1z * alpha^2 - alpha * (ea + beta*esig1 + gamma) * (eb + beta*esig2 + gamma) * (ec + gamma) * ezw\n",
    "#rp = r - r0"
   ]
  },
  {
   "cell_type": "markdown",
   "id": "c2c96824",
   "metadata": {},
   "source": [
    "Fundamentally you are checking that the commitments to the final polynomial $[W_{\\zeta}]_1, [W_{\\zeta\\omega}]_1$ are what they claim to be, which you can see the definitions of the polynomials in round 5 in the paper. To check that, you are reconstructing the definition using the provided evaluations and commitments to component polynomials of the circuit.\n",
    "\n",
    "The paper makes use of three polynomials in the construction, $[D]_1, [F]_1, [E]_1$ (steps 9, 10 and 11 in the paper). Polynomial D is a reconstruction of polynomial r from round 5. The rest of F and E reconstruct the other openings in $W_\\zeta$.\n",
    "\n",
    "For instance $[F]_1$ contains $v \\cdot [a]_1$ and $[E]_1$ contains $v \\cdot e_a$. When subtracted as in the pairing formula in the final step, it makes $v(a-e_a)$ as in the definition of $W_\\zeta$.\n",
    "\n",
    "The reason F and E polynomials are split in the construction is because F contains pre-commited values from the prover, while E contains the evaluations at zeta, which all need to be multiplied by $[1]_1$ in order to subtract from F.\n",
    "\n",
    "E also contains the term $u \\cdot e_{\\zeta_{\\omega}}$ which corresponds to the term $u \\cdot [W_{\\zeta\\omega}]_1$ in the left pairing formula of the final step."
   ]
  },
  {
   "cell_type": "code",
   "execution_count": 43,
   "id": "0cab04fb",
   "metadata": {},
   "outputs": [],
   "source": [
    "CD_1 = ((ea*eb*Cqm_1 + ea*Cql_1 + eb*Cqr_1 + ec*Cqo_1 + Cqc_1)\n",
    "     + (alpha * (ea + beta*zeta + gamma) * (eb + beta*k1*zeta + gamma) * (ec + beta*k2*zeta + gamma) + el1z*alpha^2 + u) * Cz_1\n",
    "     - (ea + beta*esig1 + gamma)*(eb + beta*esig2 + gamma)*alpha*beta*ezw*Csig_3\n",
    "     - ezz * (Ct_lo_1 + zeta^n*Ct_mid_1 + zeta^(2*n)*Ct_hi_1))\n",
    "\n",
    "CF_1 = CD_1 + v*Ca_1 + v^2*Cb_1 + v^3*Cc_1 + v^4*Csig_1 + v^5*Csig_2\n",
    "CE_1 = -r0 + v*ea + v^2*eb + v^3*ec + v^4*esig1 + v^5*esig2 + u*ezw"
   ]
  },
  {
   "cell_type": "markdown",
   "id": "5ec19a9c",
   "metadata": {},
   "source": [
    "\n",
    "Now to see that final step, which checks the construction of W polynomials were made correctly. Expressed $(W_{\\zeta} + u \\cdot W_{\\zeta\\omega}) * x = \\zeta \\cdot W_{\\zeta} + u\\zeta\\omega \\cdot W_{\\zeta\\omega} + F - E$"
   ]
  },
  {
   "cell_type": "code",
   "execution_count": 44,
   "id": "f8ebd23e",
   "metadata": {},
   "outputs": [],
   "source": [
    "# TODO elliptic cure pairing check"
   ]
  }
 ],
 "metadata": {
  "kernelspec": {
   "display_name": "SageMath 9.5",
   "language": "sagemath",
   "name": "sagemath"
  },
  "language_info": {
   "codemirror_mode": {
    "name": "ipython",
    "version": 3
   },
   "file_extension": ".py",
   "mimetype": "text/x-python",
   "name": "python",
   "nbconvert_exporter": "python",
   "pygments_lexer": "ipython3",
   "version": "3.9.11"
  }
 },
 "nbformat": 4,
 "nbformat_minor": 5
}
